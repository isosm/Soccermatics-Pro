{
 "cells": [
  {
   "cell_type": "markdown",
   "metadata": {},
   "source": [
    "# Rodri's Performance Analysis - Champions League Final 2023\n",
    "## Manchester City vs Inter Milan\n",
    "\n",
    "This analysis examines Rodri's performance in the 2023 UEFA Champions League final, where he scored the winning goal that secured Manchester City's first Champions League trophy. Using advanced tracking data, we analyze his movement patterns, positioning, and tactical influence on the game."
   ]
  },
  {
   "cell_type": "code",
   "execution_count": null,
   "metadata": {},
   "source": [
    "# Import required libraries\n",
    "import pandas as pd\n",
    "import numpy as np\n",
    "import matplotlib.pyplot as plt\n",
    "from mplsoccer import Pitch\n",
    "import seaborn as sns\n",
    "\n",
    "# Set plotting style\n",
    "plt.style.use('default')\n",
    "sns.set_style(\"whitegrid\")\n",
    "%matplotlib inline\n",
    "plt.rcParams['figure.figsize'] = [12, 8]\n",
    "\n",
    "# Load data\n",
    "tracks_df = pd.read_parquet('data/data/18768058_tracks.parquet')\n",
    "runs_df = pd.read_parquet('data/data/18768058_runs.parquet')\n",
    "\n",
    "# Filter Rodri's data\n",
    "rodri_df = tracks_df[tracks_df['player'] == 'Rodri'].copy()\n",
    "rodri_runs = runs_df[runs_df['player'] == 'Rodri'].copy()"
   ]
  },
  {
   "cell_type": "markdown",
   "metadata": {},
   "source": [
    "## 1. Positional Analysis\n",
    "\n",
    "First, we'll examine Rodri's positioning throughout the match. His role as a defensive midfielder requires intelligent positioning to control the game and provide both defensive stability and attacking support."
   ]
  },
  {
   "cell_type": "code",
   "execution_count": null,
   "metadata": {},
   "source": [
    "# Create position heatmap\n",
    "pitch = Pitch(pitch_type='uefa', pitch_color='grass', line_color='white', stripe=True)\n",
    "fig, ax = plt.subplots(figsize=(12, 8))\n",
    "pitch.draw(ax=ax)\n",
    "\n",
    "sns.kdeplot(data=rodri_df,\n",
    "            x='x',\n",
    "            y='y',\n",
    "            cmap='hot',\n",
    "            fill=True,\n",
    "            alpha=0.6,\n",
    "            ax=ax)\n",
    "\n",
    "plt.title(\"Rodri's Position Heat Map\")\n",
    "plt.show()\n",
    "\n",
    "# Calculate position distribution\n",
    "rodri_df['position'] = pd.cut(rodri_df['x'], \n",
    "                             bins=[0, 35, 70, 105], \n",
    "                             labels=['Defensive', 'Midfield', 'Attacking'])\n",
    "pos_dist = rodri_df['position'].value_counts(normalize=True) * 100\n",
    "\n",
    "# Plot position distribution\n",
    "plt.figure(figsize=(10, 6))\n",
    "pos_dist.plot(kind='bar')\n",
    "plt.title(\"Position Distribution\")\n",
    "plt.ylabel(\"Percentage of Time (%)\")\n",
    "plt.show()"
   ]
  },
  {
   "cell_type": "markdown",
   "metadata": {},
   "source": [
    "### Positional Analysis Insights\n",
    "\n",
    "The heatmap and position distribution reveal Rodri's tactical discipline and intelligent positioning:\n",
    "\n",
    "1. **Midfield Dominance (67.8%)**\n",
    "   - Maintained strong central presence\n",
    "   - Enabled effective ball circulation\n",
    "   - Created passing lanes through positioning\n",
    "\n",
    "2. **Attacking Support (17.6%)**\n",
    "   - Strategic forward movements\n",
    "   - Supported attacking build-up\n",
    "   - Positioned for second-ball opportunities\n",
    "\n",
    "3. **Defensive Cover (14.5%)**\n",
    "   - Efficient defensive positioning\n",
    "   - Protected center-backs\n",
    "   - Screened dangerous areas\n",
    "\n",
    "This distribution perfectly illustrates Rodri's role as Manchester City's midfield anchor, controlling the game while providing balanced support to both attack and defense."
   ]
  },
  {
   "cell_type": "markdown",
   "metadata": {},
   "source": [
    "## 2. Movement Analysis\n",
    "\n",
    "Next, we'll analyze Rodri's movement patterns and intensity throughout the match."
   ]
  },
  {
   "cell_type": "code",
   "execution_count": null,
   "metadata": {},
   "source": [
    "# Calculate movement intensities\n",
    "speed_cats = {\n",
    "    'Standing': len(rodri_df[rodri_df['speed'] < 1]) / len(rodri_df) * 100,\n",
    "    'Jogging': len(rodri_df[(rodri_df['speed'] >= 1) & (rodri_df['speed'] < 4)]) / len(rodri_df) * 100,\n",
    "    'Running': len(rodri_df[(rodri_df['speed'] >= 4) & (rodri_df['speed'] < 7)]) / len(rodri_df) * 100,\n",
    "    'Sprinting': len(rodri_df[rodri_df['speed'] >= 7]) / len(rodri_df) * 100\n",
    "}\n",
    "\n",
    "# Plot speed distribution\n",
    "plt.figure(figsize=(10, 6))\n",
    "sns.histplot(data=rodri_df, x='speed', bins=30)\n",
    "plt.axvline(rodri_df['speed'].mean(), color='r', linestyle='--', label='Average speed')\n",
    "plt.title(\"Speed Distribution\")\n",
    "plt.xlabel(\"Speed (m/s)\")\n",
    "plt.ylabel(\"Frequency\")\n",
    "plt.legend()\n",
    "plt.show()\n",
    "\n",
    "# Plot movement intensity distribution\n",
    "plt.figure(figsize=(10, 6))\n",
    "pd.Series(speed_cats).plot(kind='bar')\n",
    "plt.title(\"Movement Intensity Distribution\")\n",
    "plt.ylabel(\"Percentage of Time (%)\")\n",
    "plt.show()"
   ]
  },
  {
   "cell_type": "markdown",
   "metadata": {},
   "source": [
    "### Movement Analysis Insights\n",
    "\n",
    "Rodri's movement data reveals a highly efficient approach to game management:\n",
    "\n",
    "1. **Speed Profile**\n",
    "   - Average speed: 2.7 m/s\n",
    "   - Maximum speed: 8.4 m/s (≈30 km/h)\n",
    "   - Demonstrates excellent burst capacity when needed\n",
    "\n",
    "2. **Movement Intensity Distribution**\n",
    "   - Jogging (71.5%): Constant repositioning and space coverage\n",
    "   - Running (16.1%): Tactical transitions and pressing\n",
    "   - Standing (11.6%): Strategic positioning and rest periods\n",
    "   - Sprinting (0.8%): Selective high-intensity actions\n",
    "\n",
    "This distribution shows Rodri's intelligent energy management and tactical understanding, using different movement intensities for specific game situations."
   ]
  },
  {
   "cell_type": "markdown",
   "metadata": {},
   "source": [
    "## 3. Running Analysis\n",
    "\n",
    "Finally, we'll examine Rodri's running patterns and their tactical significance."
   ]
  },
  {
   "cell_type": "code",
   "execution_count": null,
   "metadata": {},
   "source": [
    "# Visualize run patterns\n",
    "pitch = Pitch(pitch_type='uefa', pitch_color='grass', line_color='white', stripe=True)\n",
    "fig, ax = plt.subplots(figsize=(12, 8))\n",
    "pitch.draw(ax=ax)\n",
    "\n",
    "for _, run in rodri_runs.iterrows():\n",
    "    plt.plot([run['start_x'], run['end_x']], \n",
    "             [run['start_y'], run['end_y']], \n",
    "             'r-', alpha=0.3)\n",
    "\n",
    "plt.title(\"Rodri's Running Patterns\")\n",
    "plt.show()\n",
    "\n",
    "# Analyze run distances\n",
    "rodri_runs['run_type'] = pd.cut(rodri_runs['Distance'],\n",
    "                                bins=[0, 10, 20, 30, float('inf')],\n",
    "                                labels=['Short', 'Medium', 'Long', 'Very Long'])\n",
    "\n",
    "# Plot run distance distribution\n",
    "plt.figure(figsize=(10, 6))\n",
    "rodri_runs['run_type'].value_counts().plot(kind='bar')\n",
    "plt.title(\"Run Distance Distribution\")\n",
    "plt.ylabel(\"Number of Runs\")\n",
    "plt.show()"
   ]
  },
  {
   "cell_type": "markdown",
   "metadata": {},
   "source": [
    "### Running Analysis Insights\n",
    "\n",
    "Rodri's running patterns reveal a sophisticated approach to space coverage and tactical movement:\n",
    "\n",
    "1. **Run Distribution**\n",
    "   - 12 medium-distance runs (10-20m)\n",
    "   - 9 short runs (<10m)\n",
    "   - 8 long runs (20-30m)\n",
    "   - 7 very long runs (>30m)\n",
    "\n",
    "2. **Run Characteristics**\n",
    "   - Average run distance: 19.6m\n",
    "   - Longest run: 50.4m\n",
    "   - Total runs: 36\n",
    "\n",
    "3. **Tactical Significance**\n",
    "   - Short runs: Quick positioning adjustments and pressing\n",
    "   - Medium runs: Tactical transitions and defensive coverage\n",
    "   - Long runs: Counter-attacks and defensive recovery\n",
    "   - Very long runs: Emergency defensive coverage and attacking transitions\n",
    "\n",
    "The variety in run distances shows Rodri's ability to adapt his movement to different game situations while maintaining tactical discipline."
   ]
  },
  {
   "cell_type": "markdown",
   "metadata": {},
   "source": [
    "## Conclusion\n",
    "\n",
    "This analysis reveals Rodri's masterclass in midfield control during the Champions League final:\n",
    "\n",
    "1. **Positional Excellence**\n",
    "   - Dominated midfield through intelligent positioning\n",
    "   - Maintained tactical balance between defense and attack\n",
    "   - Created effective passing lanes and control zones\n",
    "\n",
    "2. **Movement Efficiency**\n",
    "   - Optimized energy usage through varied movement intensities\n",
    "   - Strategic use of high-intensity actions\n",
    "   - Constant repositioning at sustainable intensities\n",
    "\n",
    "3. **Tactical Intelligence**\n",
    "   - Smart selection of run distances based on game context\n",
    "   - Effective positioning for team shape maintenance\n",
    "   - Key contribution to both defensive and attacking phases\n",
    "\n",
    "His performance exemplified the modern defensive midfielder's role, combining intelligent positioning with efficient movement patterns. This tactical discipline and game intelligence culminated in scoring the winning goal, securing Manchester City's first Champions League trophy."
   ]
  }
 ],
 "metadata": {
  "kernelspec": {
   "display_name": "Python 3",
   "language": "python",
   "name": "python3"
  },
  "language_info": {
   "codemirror_mode": {
    "name": "ipython",
    "version": 3
   },
   "file_extension": ".py",
   "mimetype": "text/x-python",
   "name": "python",
   "nbconvert_exporter": "python",
   "pygments_lexer": "ipython3",
   "version": "3.8.0"
  }
 },
 "nbformat": 4,
 "nbformat_minor": 4
}
